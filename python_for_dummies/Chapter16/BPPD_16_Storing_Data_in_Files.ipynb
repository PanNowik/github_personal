{
 "cells": [
  {
   "cell_type": "markdown",
   "metadata": {},
   "source": [
    "# Creating Content for Permanent Storage"
   ]
  },
  {
   "cell_type": "code",
   "execution_count": 1,
   "metadata": {},
   "outputs": [
    {
     "name": "stdout",
     "output_type": "stream",
     "text": [
      "'George', 65, True\n",
      "'Sally', 47, False\n",
      "'Doug', 52, True\n"
     ]
    }
   ],
   "source": [
    "from BPPD_16_FormattedData import FormatData\n",
    "NewData = [FormatData(\"George\", 65, True),\n",
    "           FormatData(\"Sally\", 47, False),\n",
    "           FormatData(\"Doug\", 52, True)]\n",
    "for Entry in NewData:\n",
    "   print(Entry)"
   ]
  },
  {
   "cell_type": "markdown",
   "metadata": {},
   "source": [
    "# Creating a File"
   ]
  },
  {
   "cell_type": "code",
   "execution_count": 2,
   "metadata": {},
   "outputs": [
    {
     "name": "stdout",
     "output_type": "stream",
     "text": [
      "Data saved!\n"
     ]
    }
   ],
   "source": [
    "from BPPD_16_FormattedData import FormatData2\n",
    "NewData = [FormatData2(\"George\", 65, True),\n",
    "           FormatData2(\"Sally\", 47, False),\n",
    "           FormatData2(\"Doug\", 52, True)]\n",
    "FormatData2.SaveData(\"TestFile.csv\", NewData)"
   ]
  },
  {
   "cell_type": "markdown",
   "metadata": {},
   "source": [
    "# Reading File Content"
   ]
  },
  {
   "cell_type": "code",
   "execution_count": 3,
   "metadata": {},
   "outputs": [
    {
     "name": "stdout",
     "output_type": "stream",
     "text": [
      "Data read!\n",
      "'George', 65, True\n",
      "'Sally', 47, False\n",
      "'Doug', 52, True\n"
     ]
    }
   ],
   "source": [
    "from BPPD_16_FormattedData import FormatData3\n",
    "NewData = FormatData3.ReadData(\"TestFile.csv\")\n",
    "for Entry in NewData:\n",
    "   print(Entry)"
   ]
  },
  {
   "cell_type": "markdown",
   "metadata": {},
   "source": [
    "# Updating File Content"
   ]
  },
  {
   "cell_type": "code",
   "execution_count": 4,
   "metadata": {},
   "outputs": [
    {
     "name": "stdout",
     "output_type": "stream",
     "text": [
      "Data read!\n",
      "'George', 65, True\n",
      "'Sally', 47, False\n",
      "'Doug', 52, True\n",
      "\r\n",
      "Adding a record for Harry.\n",
      "'George', 65, True\n",
      "'Sally', 47, False\n",
      "'Doug', 52, True\n",
      "'Harry', 23, False\n",
      "\r\n",
      "Removing Doug's record.\n",
      "'George', 65, True\n",
      "'Sally', 47, False\n",
      "'Harry', 23, False\n",
      "\r\n",
      "Modifying Sally's record.\n",
      "'George', 65, True\n",
      "'Harry', 23, False\n",
      "'Sally', 48, True\n",
      "Data saved!\n"
     ]
    }
   ],
   "source": [
    "from BPPD_16_FormattedData import FormatData3\n",
    "import os.path\n",
    "\n",
    "if not os.path.isfile(\"Testfile.csv\"):\n",
    "   print(\"Please run the CreateFile.py example!\")\n",
    "   quit()\n",
    "\n",
    "NewData = FormatData3.ReadData(\"TestFile.csv\")\n",
    "for Entry in NewData:\n",
    "   print(Entry)\n",
    "\n",
    "print(\"\\r\\nAdding a record for Harry.\")\n",
    "NewRecord = \"'Harry', 23, False\"\n",
    "NewData.append(NewRecord)\n",
    "for Entry in NewData:\n",
    "   print(Entry)\n",
    "\n",
    "print(\"\\r\\nRemoving Doug's record.\")\n",
    "Location = NewData.index(\"'Doug', 52, True\")\n",
    "Record = NewData[Location]\n",
    "NewData.remove(Record)\n",
    "for Entry in NewData:\n",
    "   print(Entry)\n",
    "\n",
    "print(\"\\r\\nModifying Sally's record.\")\n",
    "Location = NewData.index(\"'Sally', 47, False\")\n",
    "Record = NewData[Location]\n",
    "Split = Record.split(\",\")\n",
    "NewRecord = FormatData3(Split[0].replace(\"'\", \"\"),\n",
    "                       int(Split[1]),\n",
    "                       bool(Split[2]))\n",
    "NewRecord.Married = True\n",
    "NewRecord.Age = 48\n",
    "NewData.append(NewRecord.__str__())\n",
    "NewData.remove(Record)\n",
    "for Entry in NewData:\n",
    "   print(Entry)\n",
    "\n",
    "FormatData3.SaveData(\"ChangedFile.csv\", NewData)"
   ]
  },
  {
   "cell_type": "markdown",
   "metadata": {},
   "source": [
    "# Deleting a File"
   ]
  },
  {
   "cell_type": "code",
   "execution_count": 5,
   "metadata": {},
   "outputs": [
    {
     "name": "stdout",
     "output_type": "stream",
     "text": [
      "File Removed!\n"
     ]
    }
   ],
   "source": [
    "import os\n",
    "os.remove(\"ChangedFile.csv\")\n",
    "print(\"File Removed!\")"
   ]
  },
  {
   "cell_type": "code",
   "execution_count": null,
   "metadata": {
    "collapsed": true
   },
   "outputs": [],
   "source": []
  }
 ],
 "metadata": {
  "kernelspec": {
   "display_name": "Python 3",
   "language": "python",
   "name": "python3"
  },
  "language_info": {
   "codemirror_mode": {
    "name": "ipython",
    "version": 3
   },
   "file_extension": ".py",
   "mimetype": "text/x-python",
   "name": "python",
   "nbconvert_exporter": "python",
   "pygments_lexer": "ipython3",
   "version": "3.6.1"
  }
 },
 "nbformat": 4,
 "nbformat_minor": 2
}
