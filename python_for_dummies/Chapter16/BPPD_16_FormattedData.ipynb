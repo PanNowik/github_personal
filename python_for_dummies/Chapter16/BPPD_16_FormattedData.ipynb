{
 "cells": [
  {
   "cell_type": "markdown",
   "metadata": {},
   "source": [
    "# Creating Content for Permanent Storage"
   ]
  },
  {
   "cell_type": "code",
   "execution_count": 1,
   "metadata": {
    "collapsed": true
   },
   "outputs": [],
   "source": [
    "class FormatData:\n",
    "   def __init__(self, Name=\"\", Age=0, Married=False):\n",
    "      self.Name = Name\n",
    "      self.Age = Age\n",
    "      self.Married = Married\n",
    "   def __str__(self):\n",
    "      OutString = \"'{0}', {1}, {2}\".format(\n",
    "         self.Name,\n",
    "         self.Age,\n",
    "         self.Married)\n",
    "      return OutString"
   ]
  },
  {
   "cell_type": "markdown",
   "metadata": {
    "collapsed": true
   },
   "source": [
    "# Creating a File"
   ]
  },
  {
   "cell_type": "code",
   "execution_count": 2,
   "metadata": {},
   "outputs": [],
   "source": [
    "import csv\n",
    "\n",
    "class FormatData2:\n",
    "   def __init__(self, Name=\"\", Age=0, Married=False):\n",
    "      self.Name = Name\n",
    "      self.Age = Age\n",
    "      self.Married = Married\n",
    "        \n",
    "   def __str__(self):\n",
    "      OutString = \"'{0}', {1}, {2}\".format(\n",
    "         self.Name,\n",
    "         self.Age,\n",
    "         self.Married)\n",
    "      return OutString\n",
    "\n",
    "   def SaveData(Filename = \"\", DataList = []):\n",
    "       with open(Filename,\n",
    "                 \"w\", newline='\\n') as csvfile:\n",
    "          DataWriter = csv.writer(\n",
    "             csvfile,\n",
    "             delimiter='\\n',\n",
    "             quotechar=\" \",\n",
    "             quoting=csv.QUOTE_NONNUMERIC)\n",
    "          DataWriter.writerow(DataList)\n",
    "          csvfile.close()\n",
    "          print(\"Data saved!\")"
   ]
  },
  {
   "cell_type": "markdown",
   "metadata": {},
   "source": [
    "# Reading File Content"
   ]
  },
  {
   "cell_type": "code",
   "execution_count": 3,
   "metadata": {},
   "outputs": [],
   "source": [
    "import csv\n",
    "\n",
    "class FormatData3:\n",
    "   def __init__(self, Name=\"\", Age=0, Married=False):\n",
    "      self.Name = Name\n",
    "      self.Age = Age\n",
    "      self.Married = Married\n",
    "        \n",
    "   def __str__(self):\n",
    "      OutString = \"'{0}', {1}, {2}\".format(\n",
    "         self.Name,\n",
    "         self.Age,\n",
    "         self.Married)\n",
    "      return OutString\n",
    "\n",
    "   def SaveData(Filename = \"\", DataList = []):\n",
    "       with open(Filename,\n",
    "                 \"w\", newline='\\n') as csvfile:\n",
    "          DataWriter = csv.writer(\n",
    "             csvfile,\n",
    "             delimiter='\\n',\n",
    "             quotechar=\" \",\n",
    "             quoting=csv.QUOTE_NONNUMERIC)\n",
    "          DataWriter.writerow(DataList)\n",
    "          csvfile.close()\n",
    "          print(\"Data saved!\")\n",
    "    \n",
    "   def ReadData(Filename = \"\"):\n",
    "       with open(Filename,\n",
    "                 \"r\", newline='\\n') as csvfile:\n",
    "          DataReader = csv.reader(\n",
    "             csvfile,\n",
    "             delimiter=\"\\n\",\n",
    "             quotechar=\" \",\n",
    "             quoting=csv.QUOTE_NONNUMERIC)\n",
    "          Output = []\n",
    "          for Item in DataReader:\n",
    "             Output.append(Item[0])\n",
    "          csvfile.close()\n",
    "          print(\"Data read!\")\n",
    "          return Output"
   ]
  },
  {
   "cell_type": "code",
   "execution_count": null,
   "metadata": {
    "collapsed": true
   },
   "outputs": [],
   "source": []
  }
 ],
 "metadata": {
  "kernelspec": {
   "display_name": "Python 3",
   "language": "python",
   "name": "python3"
  },
  "language_info": {
   "codemirror_mode": {
    "name": "ipython",
    "version": 3
   },
   "file_extension": ".py",
   "mimetype": "text/x-python",
   "name": "python",
   "nbconvert_exporter": "python",
   "pygments_lexer": "ipython3",
   "version": "3.6.1"
  }
 },
 "nbformat": 4,
 "nbformat_minor": 2
}
