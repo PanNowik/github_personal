{
 "cells": [
  {
   "cell_type": "markdown",
   "metadata": {},
   "source": [
    "# Understanding What Happens When You Send E-mail\n",
    "## Defining the parts of the envelope\n",
    "### Host"
   ]
  },
  {
   "cell_type": "code",
   "execution_count": 1,
   "metadata": {},
   "outputs": [
    {
     "name": "stdout",
     "output_type": "stream",
     "text": [
      "127.0.0.1\n",
      "('Main', [], ['127.0.0.1'])\n"
     ]
    }
   ],
   "source": [
    "import socket\n",
    "print(socket.gethostbyname(\"localhost\"))\n",
    "print(socket.gethostbyaddr(\"127.0.0.1\"))"
   ]
  },
  {
   "cell_type": "code",
   "execution_count": 2,
   "metadata": {},
   "outputs": [
    {
     "name": "stdout",
     "output_type": "stream",
     "text": [
      "166.62.109.105\n"
     ]
    }
   ],
   "source": [
    "print(socket.gethostbyname(\"www.johnmuellerbooks.com\"))"
   ]
  },
  {
   "cell_type": "markdown",
   "metadata": {},
   "source": [
    "### Port"
   ]
  },
  {
   "cell_type": "code",
   "execution_count": 3,
   "metadata": {},
   "outputs": [
    {
     "data": {
      "text/plain": [
       "[(<AddressFamily.AF_INET6: 23>, 0, 0, '', ('::1', 110, 0, 0)),\n",
       " (<AddressFamily.AF_INET: 2>, 0, 0, '', ('127.0.0.1', 110))]"
      ]
     },
     "execution_count": 3,
     "metadata": {},
     "output_type": "execute_result"
    }
   ],
   "source": [
    "import socket\n",
    "socket.getaddrinfo(\"localhost\", 110)"
   ]
  },
  {
   "cell_type": "code",
   "execution_count": 4,
   "metadata": {},
   "outputs": [
    {
     "data": {
      "text/plain": [
       "[(<AddressFamily.AF_INET: 2>, 0, 0, '', ('166.62.109.105', 80))]"
      ]
     },
     "execution_count": 4,
     "metadata": {},
     "output_type": "execute_result"
    }
   ],
   "source": [
    "socket.getaddrinfo(\"johnmuellerbooks.com\", 80)"
   ]
  },
  {
   "cell_type": "code",
   "execution_count": 5,
   "metadata": {},
   "outputs": [
    {
     "data": {
      "text/plain": [
       "'smtp'"
      ]
     },
     "execution_count": 5,
     "metadata": {},
     "output_type": "execute_result"
    }
   ],
   "source": [
    "socket.getservbyport(25)"
   ]
  },
  {
   "cell_type": "markdown",
   "metadata": {},
   "source": [
    "### Local hostname"
   ]
  },
  {
   "cell_type": "code",
   "execution_count": 6,
   "metadata": {},
   "outputs": [
    {
     "data": {
      "text/plain": [
       "'Main'"
      ]
     },
     "execution_count": 6,
     "metadata": {},
     "output_type": "execute_result"
    }
   ],
   "source": [
    "import socket\n",
    "socket.gethostname()"
   ]
  },
  {
   "cell_type": "code",
   "execution_count": 7,
   "metadata": {},
   "outputs": [
    {
     "data": {
      "text/plain": [
       "'192.168.0.101'"
      ]
     },
     "execution_count": 7,
     "metadata": {},
     "output_type": "execute_result"
    }
   ],
   "source": [
    "socket.gethostbyname(socket.gethostname())"
   ]
  },
  {
   "cell_type": "markdown",
   "metadata": {},
   "source": [
    "## Defining the parts of the letter\n",
    "### Defining the message"
   ]
  },
  {
   "cell_type": "code",
   "execution_count": 8,
   "metadata": {},
   "outputs": [
    {
     "data": {
      "text/plain": [
       "'Content-Type: text/plain; charset=\"us-ascii\"\\nMIME-Version: 1.0\\nContent-Transfer-Encoding: 7bit\\nSubject: A Test Message\\nFrom: John Mueller <John@JohnMuellerBooks.com>\\nTo: John Mueller <John@JohnMuellerBooks.com>\\n\\nHello There'"
      ]
     },
     "execution_count": 8,
     "metadata": {},
     "output_type": "execute_result"
    }
   ],
   "source": [
    "from email.mime.text import MIMEText\n",
    "msg = MIMEText(\"Hello There\")\n",
    "msg['Subject'] = \"A Test Message\"\n",
    "msg['From']='John Mueller <John@JohnMuellerBooks.com>'\n",
    "msg['To'] = 'John Mueller <John@JohnMuellerBooks.com>'\n",
    "\n",
    "msg.as_string()"
   ]
  },
  {
   "cell_type": "markdown",
   "metadata": {},
   "source": [
    "### Specifying the transmission"
   ]
  },
  {
   "cell_type": "code",
   "execution_count": null,
   "metadata": {
    "collapsed": true
   },
   "outputs": [],
   "source": [
    "import smtplib\n",
    "s = smtplib.SMTP('localhost')\n",
    "\n",
    "s.sendmail('SenderAddress', ['RecipientAddress'], msg.as_string())"
   ]
  },
  {
   "cell_type": "markdown",
   "metadata": {},
   "source": [
    "# Creating the E-mail Message\n",
    "## Working with a text message"
   ]
  },
  {
   "cell_type": "code",
   "execution_count": null,
   "metadata": {
    "collapsed": true
   },
   "outputs": [],
   "source": [
    "from email.mime.text import MIMEText\n",
    "import smtplib\n",
    "msg = MIMEText(\"Hello There!\")\n",
    "msg['Subject'] = 'A Test Message'\n",
    "msg['From']='SenderAddress'\n",
    "msg['To'] = 'RecipientAddress'\n",
    "s = smtplib.SMTP('localhost')\n",
    "s.sendmail('SenderAddress',\n",
    "           ['RecipientAddress'],\n",
    "           msg.as_string())\n",
    "print(\"Message Sent!\")"
   ]
  },
  {
   "cell_type": "markdown",
   "metadata": {},
   "source": [
    "## Working with an HTML message"
   ]
  },
  {
   "cell_type": "code",
   "execution_count": null,
   "metadata": {
    "collapsed": true
   },
   "outputs": [],
   "source": [
    "from email.mime.text import MIMEText\n",
    "import smtplib\n",
    "msg = MIMEText(\n",
    "   \"<h1>A Heading</h1><p>Hello There!</p>\",\"html\")\n",
    "msg['Subject'] = 'A Test HTML Message'\n",
    "msg['From']='SenderAddress'\n",
    "msg['To'] = 'RecipientAddress'\n",
    "s = smtplib.SMTP('localhost')\n",
    "s.sendmail('SenderAddress',\n",
    "           ['RecipientAddress'],\n",
    "           msg.as_string())\n",
    "print(\"Message Sent!\")"
   ]
  }
 ],
 "metadata": {
  "kernelspec": {
   "display_name": "Python 3",
   "language": "python",
   "name": "python3"
  },
  "language_info": {
   "codemirror_mode": {
    "name": "ipython",
    "version": 3
   },
   "file_extension": ".py",
   "mimetype": "text/x-python",
   "name": "python",
   "nbconvert_exporter": "python",
   "pygments_lexer": "ipython3",
   "version": "3.6.1"
  }
 },
 "nbformat": 4,
 "nbformat_minor": 2
}
