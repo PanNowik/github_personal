{
 "cells": [
  {
   "cell_type": "code",
   "execution_count": 30,
   "metadata": {},
   "outputs": [],
   "source": [
    "import gspread\n",
    "from oauth2client.service_account import ServiceAccountCredentials\n",
    "\n",
    "scope = ['https://spreadsheets.google.com/feeds','https://www.googleapis.com/auth/drive']\n",
    "creds = ServiceAccountCredentials.from_json_keyfile_name('test1_secret.json', scope)\n",
    "client = gspread.authorize(creds)\n",
    "\n",
    "sheet = client.open('test2').sheet1\n",
    "\n",
    "python_gsheets = sheet.get_all_records()\n",
    "\n",
    "import pandas as pd\n",
    "import numpy as np\n",
    "\n",
    "df = pd.DataFrame(python_gsheets)\n",
    "df_id = df['id_user']\n",
    "\n",
    "df_id.to_csv(r'C:\\Users\\pawel.nowik\\Desktop\\Dane\\export_python_test_22.csv',index = None, header=True)"
   ]
  },
  {
   "cell_type": "code",
   "execution_count": null,
   "metadata": {},
   "outputs": [],
   "source": []
  },
  {
   "cell_type": "code",
   "execution_count": 14,
   "metadata": {},
   "outputs": [],
   "source": [
    "import pandas as pd"
   ]
  },
  {
   "cell_type": "code",
   "execution_count": 15,
   "metadata": {},
   "outputs": [],
   "source": [
    "import numpy as np"
   ]
  },
  {
   "cell_type": "code",
   "execution_count": 16,
   "metadata": {},
   "outputs": [],
   "source": [
    "df = pd.DataFrame(python_gsheets)"
   ]
  },
  {
   "cell_type": "code",
   "execution_count": 18,
   "metadata": {},
   "outputs": [
    {
     "data": {
      "text/html": [
       "<div>\n",
       "<style scoped>\n",
       "    .dataframe tbody tr th:only-of-type {\n",
       "        vertical-align: middle;\n",
       "    }\n",
       "\n",
       "    .dataframe tbody tr th {\n",
       "        vertical-align: top;\n",
       "    }\n",
       "\n",
       "    .dataframe thead th {\n",
       "        text-align: right;\n",
       "    }\n",
       "</style>\n",
       "<table border=\"1\" class=\"dataframe\">\n",
       "  <thead>\n",
       "    <tr style=\"text-align: right;\">\n",
       "      <th></th>\n",
       "      <th>cat_l2</th>\n",
       "      <th>id_user</th>\n",
       "      <th>suma</th>\n",
       "      <th>wynik</th>\n",
       "    </tr>\n",
       "  </thead>\n",
       "  <tbody>\n",
       "    <tr>\n",
       "      <th>0</th>\n",
       "      <td>Obsługa klienta / call center</td>\n",
       "      <td>31129455</td>\n",
       "      <td>Reve Listing Tele</td>\n",
       "      <td>462</td>\n",
       "    </tr>\n",
       "    <tr>\n",
       "      <th>1</th>\n",
       "      <td>Praca za granicą</td>\n",
       "      <td>48179553</td>\n",
       "      <td>Reve Listing Tele</td>\n",
       "      <td>3,280</td>\n",
       "    </tr>\n",
       "    <tr>\n",
       "      <th>2</th>\n",
       "      <td>Obsługa klienta / call center</td>\n",
       "      <td>31129455</td>\n",
       "      <td>Reve Vas Tele</td>\n",
       "      <td>1,297</td>\n",
       "    </tr>\n",
       "    <tr>\n",
       "      <th>3</th>\n",
       "      <td>IT / telekomunikacja</td>\n",
       "      <td>1682139</td>\n",
       "      <td>Reve Vas Tele</td>\n",
       "      <td>208</td>\n",
       "    </tr>\n",
       "    <tr>\n",
       "      <th>4</th>\n",
       "      <td>Produkcja</td>\n",
       "      <td>35128699</td>\n",
       "      <td>Reve Vas Tele</td>\n",
       "      <td>119</td>\n",
       "    </tr>\n",
       "  </tbody>\n",
       "</table>\n",
       "</div>"
      ],
      "text/plain": [
       "                          cat_l2   id_user               suma  wynik\n",
       "0  Obsługa klienta / call center  31129455  Reve Listing Tele    462\n",
       "1               Praca za granicą  48179553  Reve Listing Tele  3,280\n",
       "2  Obsługa klienta / call center  31129455      Reve Vas Tele  1,297\n",
       "3           IT / telekomunikacja   1682139      Reve Vas Tele    208\n",
       "4                      Produkcja  35128699      Reve Vas Tele    119"
      ]
     },
     "execution_count": 18,
     "metadata": {},
     "output_type": "execute_result"
    }
   ],
   "source": [
    "df"
   ]
  },
  {
   "cell_type": "code",
   "execution_count": 22,
   "metadata": {},
   "outputs": [
    {
     "data": {
      "text/plain": [
       "0    31129455\n",
       "1    48179553\n",
       "2    31129455\n",
       "3     1682139\n",
       "4    35128699\n",
       "Name: id_user, dtype: int64"
      ]
     },
     "execution_count": 22,
     "metadata": {},
     "output_type": "execute_result"
    }
   ],
   "source": [
    "df_id = df['id_user']\n",
    "df_id"
   ]
  },
  {
   "cell_type": "code",
   "execution_count": 29,
   "metadata": {},
   "outputs": [],
   "source": [
    "df_id.to_csv(r'C:\\Users\\pawel.nowik\\Desktop\\Dane\\export_python_test_2.csv',index = None, header=True)"
   ]
  }
 ],
 "metadata": {
  "kernelspec": {
   "display_name": "Python 3",
   "language": "python",
   "name": "python3"
  },
  "language_info": {
   "codemirror_mode": {
    "name": "ipython",
    "version": 3
   },
   "file_extension": ".py",
   "mimetype": "text/x-python",
   "name": "python",
   "nbconvert_exporter": "python",
   "pygments_lexer": "ipython3",
   "version": "3.7.3"
  }
 },
 "nbformat": 4,
 "nbformat_minor": 2
}
