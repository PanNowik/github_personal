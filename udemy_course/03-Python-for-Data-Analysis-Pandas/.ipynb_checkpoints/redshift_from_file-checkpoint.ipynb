{
 "cells": [
  {
   "cell_type": "code",
   "execution_count": 13,
   "metadata": {},
   "outputs": [
    {
     "data": {
      "text/html": [
       "<div>\n",
       "<style scoped>\n",
       "    .dataframe tbody tr th:only-of-type {\n",
       "        vertical-align: middle;\n",
       "    }\n",
       "\n",
       "    .dataframe tbody tr th {\n",
       "        vertical-align: top;\n",
       "    }\n",
       "\n",
       "    .dataframe thead th {\n",
       "        text-align: right;\n",
       "    }\n",
       "</style>\n",
       "<table border=\"1\" class=\"dataframe\">\n",
       "  <thead>\n",
       "    <tr style=\"text-align: right;\">\n",
       "      <th></th>\n",
       "      <th>konsultant</th>\n",
       "      <th>ile_ads</th>\n",
       "    </tr>\n",
       "  </thead>\n",
       "  <tbody>\n",
       "    <tr>\n",
       "      <th>0</th>\n",
       "      <td>Jakub Więckowski</td>\n",
       "      <td>2852</td>\n",
       "    </tr>\n",
       "    <tr>\n",
       "      <th>1</th>\n",
       "      <td>Weronika Szóstak</td>\n",
       "      <td>200</td>\n",
       "    </tr>\n",
       "    <tr>\n",
       "      <th>2</th>\n",
       "      <td>Patrycja Cięciel</td>\n",
       "      <td>376</td>\n",
       "    </tr>\n",
       "    <tr>\n",
       "      <th>3</th>\n",
       "      <td>Kamila Kotarba</td>\n",
       "      <td>428</td>\n",
       "    </tr>\n",
       "    <tr>\n",
       "      <th>4</th>\n",
       "      <td>Paula Głowala</td>\n",
       "      <td>630</td>\n",
       "    </tr>\n",
       "  </tbody>\n",
       "</table>\n",
       "</div>"
      ],
      "text/plain": [
       "         konsultant  ile_ads\n",
       "0  Jakub Więckowski     2852\n",
       "1  Weronika Szóstak      200\n",
       "2  Patrycja Cięciel      376\n",
       "3    Kamila Kotarba      428\n",
       "4     Paula Głowala      630"
      ]
     },
     "execution_count": 13,
     "metadata": {},
     "output_type": "execute_result"
    }
   ],
   "source": [
    "import psycopg2\n",
    "from pandas import read_sql_query\n",
    "\n",
    "config = { 'dbname': 'main', \n",
    "           'user':'pawel_nowik',\n",
    "           'pwd':'nq!65GMqmOv7',\n",
    "           'host':'yamato.data.olxtech.pl',\n",
    "           'port':'5671'\n",
    "         }\n",
    "\n",
    "def create_conn(*args,**kwargs):\n",
    "    config = kwargs['config']\n",
    "    try:\n",
    "        con=psycopg2.connect(dbname=config['dbname'], host=config['host'], \n",
    "                              port=config['port'], user=config['user'], \n",
    "                              password=config['pwd'])\n",
    "        return con\n",
    "    except Exception as err:\n",
    "        print(err)\n",
    "        \n",
    "con = create_conn(config=config)\n",
    "\n",
    "query = open(r'C:\\Users\\pawel.nowik\\Desktop\\SQL Files\\Grey - raporty\\grey_mond_1.sql')\n",
    "\n",
    "df = read_sql_query(query.read(),con)\n",
    "\n",
    "df.head()\n",
    "\n",
    "#df.to_csv(r'C:\\Users\\pawel.nowik\\Desktop\\Dane\\test_psycopg2_new.csv',index = None, header=True)"
   ]
  }
 ],
 "metadata": {
  "kernelspec": {
   "display_name": "Python 3",
   "language": "python",
   "name": "python3"
  },
  "language_info": {
   "codemirror_mode": {
    "name": "ipython",
    "version": 3
   },
   "file_extension": ".py",
   "mimetype": "text/x-python",
   "name": "python",
   "nbconvert_exporter": "python",
   "pygments_lexer": "ipython3",
   "version": "3.7.3"
  }
 },
 "nbformat": 4,
 "nbformat_minor": 2
}
